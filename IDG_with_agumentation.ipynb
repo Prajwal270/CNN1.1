{
  "nbformat": 4,
  "nbformat_minor": 0,
  "metadata": {
    "colab": {
      "name": "IDG_with_agumentation.ipynb",
      "provenance": [],
      "toc_visible": true,
      "authorship_tag": "ABX9TyOevv6EMXhfBIl5HS43utDw",
      "include_colab_link": true
    },
    "kernelspec": {
      "name": "python3",
      "display_name": "Python 3"
    },
    "accelerator": "GPU"
  },
  "cells": [
    {
      "cell_type": "markdown",
      "metadata": {
        "id": "view-in-github",
        "colab_type": "text"
      },
      "source": [
        "<a href=\"https://colab.research.google.com/github/Prajwal270/CNN1.1/blob/master/IDG_with_agumentation.ipynb\" target=\"_parent\"><img src=\"https://colab.research.google.com/assets/colab-badge.svg\" alt=\"Open In Colab\"/></a>"
      ]
    },
    {
      "cell_type": "code",
      "metadata": {
        "id": "b1y-0rlSEcVd",
        "colab_type": "code",
        "outputId": "20100143-ed4e-4dba-a3fd-06312c7dd0c2",
        "colab": {
          "base_uri": "https://localhost:8080/",
          "height": 34
        }
      },
      "source": [
        "print('Prajwal Raj')"
      ],
      "execution_count": 1,
      "outputs": [
        {
          "output_type": "stream",
          "text": [
            "Prajwal Raj\n"
          ],
          "name": "stdout"
        }
      ]
    },
    {
      "cell_type": "code",
      "metadata": {
        "id": "XM1PcIM1Eg4F",
        "colab_type": "code",
        "outputId": "c63a56ea-8d2a-4ed6-8bcc-90662f1b914a",
        "colab": {
          "base_uri": "https://localhost:8080/",
          "height": 212
        }
      },
      "source": [
        "!wget --no-check-certificate \\\n",
        "    https://storage.googleapis.com/mledu-datasets/cats_and_dogs_filtered.zip \\\n",
        "    -O /tmp/cats_and_dogs_filtered.zip"
      ],
      "execution_count": 2,
      "outputs": [
        {
          "output_type": "stream",
          "text": [
            "--2020-02-27 17:16:03--  https://storage.googleapis.com/mledu-datasets/cats_and_dogs_filtered.zip\n",
            "Resolving storage.googleapis.com (storage.googleapis.com)... 74.125.142.128, 2607:f8b0:400e:c07::80\n",
            "Connecting to storage.googleapis.com (storage.googleapis.com)|74.125.142.128|:443... connected.\n",
            "HTTP request sent, awaiting response... 200 OK\n",
            "Length: 68606236 (65M) [application/zip]\n",
            "Saving to: ‘/tmp/cats_and_dogs_filtered.zip’\n",
            "\n",
            "/tmp/cats_and_dogs_ 100%[===================>]  65.43M  42.1MB/s    in 1.6s    \n",
            "\n",
            "2020-02-27 17:16:05 (42.1 MB/s) - ‘/tmp/cats_and_dogs_filtered.zip’ saved [68606236/68606236]\n",
            "\n"
          ],
          "name": "stdout"
        }
      ]
    },
    {
      "cell_type": "code",
      "metadata": {
        "id": "vrRhY6RbE2xb",
        "colab_type": "code",
        "colab": {}
      },
      "source": [
        "import os \n",
        "import zipfile"
      ],
      "execution_count": 0,
      "outputs": []
    },
    {
      "cell_type": "code",
      "metadata": {
        "id": "TSoZbWieE-rV",
        "colab_type": "code",
        "colab": {}
      },
      "source": [
        "local_dir = '/tmp/cats_and_dogs_filtered.zip'\n",
        "zip = zipfile.ZipFile(local_dir,'r')\n",
        "zip.extractall('/tmp/cats_and_dogs')\n",
        "zip.close()"
      ],
      "execution_count": 0,
      "outputs": []
    },
    {
      "cell_type": "code",
      "metadata": {
        "id": "nr2v9HJ3Fh9B",
        "colab_type": "code",
        "colab": {}
      },
      "source": [
        "base_dir = '/tmp/cats_and_dogs'\n",
        "train_dir = os.path.join(base_dir, 'train')"
      ],
      "execution_count": 0,
      "outputs": []
    },
    {
      "cell_type": "code",
      "metadata": {
        "id": "NNukasaBGhrp",
        "colab_type": "code",
        "colab": {}
      },
      "source": [
        "# Directory with our training cat pictures\n",
        "train_cats_dir = os.path.join(train_dir, 'cats')\n",
        "\n",
        "# Directory with our training dog pictures\n",
        "train_dogs_dir = os.path.join(train_dir, 'dogs')"
      ],
      "execution_count": 0,
      "outputs": []
    },
    {
      "cell_type": "code",
      "metadata": {
        "id": "QPBYbrbYGqS3",
        "colab_type": "code",
        "colab": {
          "base_uri": "https://localhost:8080/",
          "height": 136
        },
        "outputId": "4690f5b6-b2d8-4128-ecde-f4dcd3617aac"
      },
      "source": [
        "import tensorflow as tf\n",
        "model = tf.keras.models.Sequential([\n",
        "\n",
        "tf.keras.layers.Conv2D(16,(2,2), input_shape=(150,150,3), activation = 'relu'),\n",
        "tf.keras.layers.MaxPool2D(2,2),\n",
        "\n",
        "tf.keras.layers.Conv2D(64,(2,2),  activation = 'relu'), \n",
        "tf.keras.layers.MaxPool2D(2,2),    \n",
        "\n",
        "tf.keras.layers.Conv2D(120,(2,2), activation = 'relu'), \n",
        "tf.keras.layers.MaxPool2D(2,2),    \n",
        "\n",
        "tf.keras.layers.Flatten(),\n",
        "tf.keras.layers.Dense(128, activation='relu'),\n",
        "tf.keras.layers.Dense(1, activation='sigmoid')\n",
        "])"
      ],
      "execution_count": 6,
      "outputs": [
        {
          "output_type": "display_data",
          "data": {
            "text/html": [
              "<p style=\"color: red;\">\n",
              "The default version of TensorFlow in Colab will soon switch to TensorFlow 2.x.<br>\n",
              "We recommend you <a href=\"https://www.tensorflow.org/guide/migrate\" target=\"_blank\">upgrade</a> now \n",
              "or ensure your notebook will continue to use TensorFlow 1.x via the <code>%tensorflow_version 1.x</code> magic:\n",
              "<a href=\"https://colab.research.google.com/notebooks/tensorflow_version.ipynb\" target=\"_blank\">more info</a>.</p>\n"
            ],
            "text/plain": [
              "<IPython.core.display.HTML object>"
            ]
          },
          "metadata": {
            "tags": []
          }
        },
        {
          "output_type": "stream",
          "text": [
            "WARNING:tensorflow:From /usr/local/lib/python3.6/dist-packages/tensorflow_core/python/ops/resource_variable_ops.py:1630: calling BaseResourceVariable.__init__ (from tensorflow.python.ops.resource_variable_ops) with constraint is deprecated and will be removed in a future version.\n",
            "Instructions for updating:\n",
            "If using Keras pass *_constraint arguments to layers.\n"
          ],
          "name": "stdout"
        }
      ]
    },
    {
      "cell_type": "code",
      "metadata": {
        "id": "eHEdVkChHBos",
        "colab_type": "code",
        "outputId": "025d7255-78ef-4279-9be5-33ff44a1bd28",
        "colab": {
          "base_uri": "https://localhost:8080/",
          "height": 478
        }
      },
      "source": [
        "model.summary()"
      ],
      "execution_count": 7,
      "outputs": [
        {
          "output_type": "stream",
          "text": [
            "Model: \"sequential\"\n",
            "_________________________________________________________________\n",
            "Layer (type)                 Output Shape              Param #   \n",
            "=================================================================\n",
            "conv2d (Conv2D)              (None, 149, 149, 16)      208       \n",
            "_________________________________________________________________\n",
            "max_pooling2d (MaxPooling2D) (None, 74, 74, 16)        0         \n",
            "_________________________________________________________________\n",
            "conv2d_1 (Conv2D)            (None, 73, 73, 64)        4160      \n",
            "_________________________________________________________________\n",
            "max_pooling2d_1 (MaxPooling2 (None, 36, 36, 64)        0         \n",
            "_________________________________________________________________\n",
            "conv2d_2 (Conv2D)            (None, 35, 35, 120)       30840     \n",
            "_________________________________________________________________\n",
            "max_pooling2d_2 (MaxPooling2 (None, 17, 17, 120)       0         \n",
            "_________________________________________________________________\n",
            "flatten (Flatten)            (None, 34680)             0         \n",
            "_________________________________________________________________\n",
            "dense (Dense)                (None, 128)               4439168   \n",
            "_________________________________________________________________\n",
            "dense_1 (Dense)              (None, 1)                 129       \n",
            "=================================================================\n",
            "Total params: 4,474,505\n",
            "Trainable params: 4,474,505\n",
            "Non-trainable params: 0\n",
            "_________________________________________________________________\n"
          ],
          "name": "stdout"
        }
      ]
    },
    {
      "cell_type": "code",
      "metadata": {
        "id": "pVZrDbrhIImR",
        "colab_type": "code",
        "outputId": "b7f7b646-69c9-453e-def5-ba43e2a6ca3f",
        "colab": {
          "base_uri": "https://localhost:8080/",
          "height": 90
        }
      },
      "source": [
        "from tensorflow.keras.optimizers import RMSprop\n",
        "model.compile(loss='binary_crossentropy', optimizer=RMSprop(lr = 0.001), metrics=['acc'])"
      ],
      "execution_count": 8,
      "outputs": [
        {
          "output_type": "stream",
          "text": [
            "WARNING:tensorflow:From /usr/local/lib/python3.6/dist-packages/tensorflow_core/python/ops/nn_impl.py:183: where (from tensorflow.python.ops.array_ops) is deprecated and will be removed in a future version.\n",
            "Instructions for updating:\n",
            "Use tf.where in 2.0, which has the same broadcast rule as np.where\n"
          ],
          "name": "stdout"
        }
      ]
    },
    {
      "cell_type": "code",
      "metadata": {
        "id": "P7_Ktg-TIohE",
        "colab_type": "code",
        "colab": {}
      },
      "source": [
        "from tensorflow.keras.preprocessing.image import ImageDataGenerator\n",
        "\n",
        "train = ImageDataGenerator( rescale=1./255,\n",
        "                           rotation_range=40,\n",
        "                           width_shift_range =0.2,\n",
        "                           height_shift_range=0.2,\n",
        "                           shear_range = 0.2,\n",
        "                           zoom_range=0.2,\n",
        "                           horizontal_flip = True,\n",
        "                           fill_mode = 'nearest')"
      ],
      "execution_count": 0,
      "outputs": []
    },
    {
      "cell_type": "code",
      "metadata": {
        "id": "l4TLjIUMJhmn",
        "colab_type": "code",
        "outputId": "c762661c-90df-4b48-80cf-7b9cc764c30e",
        "colab": {
          "base_uri": "https://localhost:8080/",
          "height": 34
        }
      },
      "source": [
        "train_gen = train.flow_from_directory(\n",
        "    '/tmp/cats_and_dogs',\n",
        "    batch_size = 30,\n",
        "    target_size = (150,150),\n",
        "    class_mode = 'binary'\n",
        ")"
      ],
      "execution_count": 10,
      "outputs": [
        {
          "output_type": "stream",
          "text": [
            "Found 2999 images belonging to 1 classes.\n"
          ],
          "name": "stdout"
        }
      ]
    },
    {
      "cell_type": "code",
      "metadata": {
        "id": "3rJ6hktVKfKe",
        "colab_type": "code",
        "outputId": "222effaa-3939-4522-e70b-8c9834fd8756",
        "colab": {
          "base_uri": "https://localhost:8080/",
          "height": 194
        }
      },
      "source": [
        "history = model.fit_generator(\n",
        "    train_gen,\n",
        "    steps_per_epoch = 40,\n",
        "    epochs = 5,\n",
        "    verbose = 2\n",
        ")"
      ],
      "execution_count": 11,
      "outputs": [
        {
          "output_type": "stream",
          "text": [
            "Epoch 1/5\n",
            "40/40 - 37s - loss: 0.0191 - acc: 0.9750\n",
            "Epoch 2/5\n",
            "40/40 - 34s - loss: 8.9690e-08 - acc: 1.0000\n",
            "Epoch 3/5\n",
            "40/40 - 33s - loss: 1.5836e-07 - acc: 1.0000\n",
            "Epoch 4/5\n",
            "40/40 - 33s - loss: 2.2614e-09 - acc: 1.0000\n",
            "Epoch 5/5\n",
            "40/40 - 32s - loss: 4.2353e-09 - acc: 1.0000\n"
          ],
          "name": "stdout"
        }
      ]
    },
    {
      "cell_type": "markdown",
      "metadata": {
        "id": "koUk7e9313Y4",
        "colab_type": "text"
      },
      "source": [
        "# 2nd part"
      ]
    },
    {
      "cell_type": "code",
      "metadata": {
        "id": "f-7JJx2F12xl",
        "colab_type": "code",
        "colab": {
          "base_uri": "https://localhost:8080/",
          "height": 1000
        },
        "outputId": "8fea11df-c149-4412-8534-151dc38940fb"
      },
      "source": [
        "!wget --no-check-certificate \\\n",
        "    https://storage.googleapis.com/mledu-datasets/cats_and_dogs_filtered.zip \\\n",
        "    -O /tmp/cats_and_dogs_filtered.zip\n",
        "  \n",
        "import os\n",
        "import zipfile\n",
        "import tensorflow as tf\n",
        "from tensorflow.keras.optimizers import RMSprop\n",
        "from tensorflow.keras.preprocessing.image import ImageDataGenerator\n",
        "\n",
        "local_zip = '/tmp/cats_and_dogs_filtered.zip'\n",
        "zip_ref = zipfile.ZipFile(local_zip, 'r')\n",
        "zip_ref.extractall('/tmp')\n",
        "zip_ref.close()\n",
        "\n",
        "base_dir = '/tmp/cats_and_dogs_filtered'\n",
        "train_dir = os.path.join(base_dir, 'train')\n",
        "validation_dir = os.path.join(base_dir, 'validation')\n",
        "\n",
        "# Directory with our training cat pictures\n",
        "train_cats_dir = os.path.join(train_dir, 'cats')\n",
        "\n",
        "# Directory with our training dog pictures\n",
        "train_dogs_dir = os.path.join(train_dir, 'dogs')\n",
        "\n",
        "# Directory with our validation cat pictures\n",
        "validation_cats_dir = os.path.join(validation_dir, 'cats')\n",
        "\n",
        "# Directory with our validation dog pictures\n",
        "validation_dogs_dir = os.path.join(validation_dir, 'dogs')\n",
        "\n",
        "model = tf.keras.models.Sequential([\n",
        "    tf.keras.layers.Conv2D(32, (3,3), activation='relu', input_shape=(150, 150, 3)),\n",
        "    tf.keras.layers.MaxPooling2D(2, 2),\n",
        "    tf.keras.layers.Conv2D(64, (3,3), activation='relu'),\n",
        "    tf.keras.layers.MaxPooling2D(2,2),\n",
        "    tf.keras.layers.Conv2D(128, (3,3), activation='relu'),\n",
        "    tf.keras.layers.MaxPooling2D(2,2),\n",
        "    tf.keras.layers.Conv2D(128, (3,3), activation='relu'),\n",
        "    tf.keras.layers.MaxPooling2D(2,2),\n",
        "    tf.keras.layers.Flatten(),\n",
        "    tf.keras.layers.Dense(512, activation='relu'),\n",
        "    tf.keras.layers.Dense(1, activation='sigmoid')\n",
        "])\n",
        "\n",
        "model.compile(loss='binary_crossentropy',\n",
        "              optimizer=RMSprop(lr=1e-4),\n",
        "              metrics=['acc'])\n",
        "\n",
        "# All images will be rescaled by 1./255\n",
        "train_datagen = ImageDataGenerator(rescale=1./255)\n",
        "test_datagen = ImageDataGenerator(rescale=1./255)\n",
        "\n",
        "# Flow training images in batches of 20 using train_datagen generator\n",
        "train_generator = train_datagen.flow_from_directory(\n",
        "        train_dir,  # This is the source directory for training images\n",
        "        target_size=(150, 150),  # All images will be resized to 150x150\n",
        "        batch_size=20,\n",
        "        # Since we use binary_crossentropy loss, we need binary labels\n",
        "        class_mode='binary')\n",
        "\n",
        "# Flow validation images in batches of 20 using test_datagen generator\n",
        "validation_generator = test_datagen.flow_from_directory(\n",
        "        validation_dir,\n",
        "        target_size=(150, 150),\n",
        "        batch_size=20,\n",
        "        class_mode='binary')\n",
        "\n",
        "history = model.fit_generator(\n",
        "      train_generator,\n",
        "      steps_per_epoch=20,  # 2000 images = batch_size * steps\n",
        "      epochs=100,\n",
        "      validation_data=validation_generator,\n",
        "      validation_steps=50,  # 1000 images = batch_size * steps\n",
        "      verbose=2)"
      ],
      "execution_count": 1,
      "outputs": [
        {
          "output_type": "stream",
          "text": [
            "--2020-02-27 18:45:45--  https://storage.googleapis.com/mledu-datasets/cats_and_dogs_filtered.zip\n",
            "Resolving storage.googleapis.com (storage.googleapis.com)... 74.125.24.128, 2404:6800:4003:c03::80\n",
            "Connecting to storage.googleapis.com (storage.googleapis.com)|74.125.24.128|:443... connected.\n",
            "HTTP request sent, awaiting response... 200 OK\n",
            "Length: 68606236 (65M) [application/zip]\n",
            "Saving to: ‘/tmp/cats_and_dogs_filtered.zip’\n",
            "\n",
            "/tmp/cats_and_dogs_ 100%[===================>]  65.43M   125MB/s    in 0.5s    \n",
            "\n",
            "2020-02-27 18:45:51 (125 MB/s) - ‘/tmp/cats_and_dogs_filtered.zip’ saved [68606236/68606236]\n",
            "\n"
          ],
          "name": "stdout"
        },
        {
          "output_type": "display_data",
          "data": {
            "text/html": [
              "<p style=\"color: red;\">\n",
              "The default version of TensorFlow in Colab will soon switch to TensorFlow 2.x.<br>\n",
              "We recommend you <a href=\"https://www.tensorflow.org/guide/migrate\" target=\"_blank\">upgrade</a> now \n",
              "or ensure your notebook will continue to use TensorFlow 1.x via the <code>%tensorflow_version 1.x</code> magic:\n",
              "<a href=\"https://colab.research.google.com/notebooks/tensorflow_version.ipynb\" target=\"_blank\">more info</a>.</p>\n"
            ],
            "text/plain": [
              "<IPython.core.display.HTML object>"
            ]
          },
          "metadata": {
            "tags": []
          }
        },
        {
          "output_type": "stream",
          "text": [
            "WARNING:tensorflow:From /usr/local/lib/python3.6/dist-packages/tensorflow_core/python/ops/resource_variable_ops.py:1630: calling BaseResourceVariable.__init__ (from tensorflow.python.ops.resource_variable_ops) with constraint is deprecated and will be removed in a future version.\n",
            "Instructions for updating:\n",
            "If using Keras pass *_constraint arguments to layers.\n",
            "WARNING:tensorflow:From /usr/local/lib/python3.6/dist-packages/tensorflow_core/python/ops/nn_impl.py:183: where (from tensorflow.python.ops.array_ops) is deprecated and will be removed in a future version.\n",
            "Instructions for updating:\n",
            "Use tf.where in 2.0, which has the same broadcast rule as np.where\n",
            "Found 2000 images belonging to 2 classes.\n",
            "Found 1000 images belonging to 2 classes.\n",
            "Epoch 1/100\n",
            "Epoch 1/100\n",
            "50/20 - 3s - loss: 0.6901 - acc: 0.5810\n",
            "20/20 - 11s - loss: 0.6992 - acc: 0.5225 - val_loss: 0.6905 - val_acc: 0.5810\n",
            "Epoch 2/100\n",
            "Epoch 1/100\n",
            "50/20 - 3s - loss: 0.6863 - acc: 0.6080\n",
            "20/20 - 4s - loss: 0.6911 - acc: 0.5225 - val_loss: 0.6869 - val_acc: 0.6080\n",
            "Epoch 3/100\n",
            "Epoch 1/100\n",
            "50/20 - 3s - loss: 0.6826 - acc: 0.5600\n",
            "20/20 - 4s - loss: 0.6821 - acc: 0.5800 - val_loss: 0.6828 - val_acc: 0.5600\n",
            "Epoch 4/100\n",
            "Epoch 1/100\n",
            "50/20 - 3s - loss: 0.6793 - acc: 0.5970\n",
            "20/20 - 4s - loss: 0.6864 - acc: 0.5450 - val_loss: 0.6702 - val_acc: 0.5970\n",
            "Epoch 5/100\n",
            "Epoch 1/100\n",
            "50/20 - 3s - loss: 0.6671 - acc: 0.6410\n",
            "20/20 - 4s - loss: 0.6726 - acc: 0.5950 - val_loss: 0.6586 - val_acc: 0.6410\n",
            "Epoch 6/100\n",
            "Epoch 1/100\n",
            "50/20 - 3s - loss: 0.6616 - acc: 0.6370\n",
            "20/20 - 4s - loss: 0.6645 - acc: 0.5975 - val_loss: 0.6520 - val_acc: 0.6370\n",
            "Epoch 7/100\n",
            "Epoch 1/100\n",
            "50/20 - 3s - loss: 0.6658 - acc: 0.6150\n",
            "20/20 - 4s - loss: 0.6479 - acc: 0.6200 - val_loss: 0.6449 - val_acc: 0.6150\n",
            "Epoch 8/100\n",
            "Epoch 1/100\n",
            "50/20 - 3s - loss: 0.6585 - acc: 0.5930\n",
            "20/20 - 4s - loss: 0.6461 - acc: 0.6125 - val_loss: 0.6681 - val_acc: 0.5930\n",
            "Epoch 9/100\n",
            "Epoch 1/100\n",
            "50/20 - 3s - loss: 0.6331 - acc: 0.6550\n",
            "20/20 - 4s - loss: 0.6263 - acc: 0.6075 - val_loss: 0.6262 - val_acc: 0.6550\n",
            "Epoch 10/100\n",
            "Epoch 1/100\n",
            "50/20 - 3s - loss: 0.6308 - acc: 0.6680\n",
            "20/20 - 4s - loss: 0.6309 - acc: 0.6625 - val_loss: 0.6158 - val_acc: 0.6680\n",
            "Epoch 11/100\n",
            "Epoch 1/100\n",
            "50/20 - 3s - loss: 0.6392 - acc: 0.6580\n",
            "20/20 - 3s - loss: 0.6106 - acc: 0.6575 - val_loss: 0.6149 - val_acc: 0.6580\n",
            "Epoch 12/100\n",
            "Epoch 1/100\n",
            "50/20 - 3s - loss: 0.6244 - acc: 0.6660\n",
            "20/20 - 4s - loss: 0.5857 - acc: 0.6950 - val_loss: 0.6214 - val_acc: 0.6660\n",
            "Epoch 13/100\n",
            "Epoch 1/100\n",
            "50/20 - 3s - loss: 0.6638 - acc: 0.6180\n",
            "20/20 - 4s - loss: 0.5877 - acc: 0.6800 - val_loss: 0.6363 - val_acc: 0.6180\n",
            "Epoch 14/100\n",
            "Epoch 1/100\n",
            "50/20 - 3s - loss: 0.6292 - acc: 0.6560\n",
            "20/20 - 4s - loss: 0.5887 - acc: 0.6775 - val_loss: 0.6120 - val_acc: 0.6560\n",
            "Epoch 15/100\n",
            "Epoch 1/100\n",
            "50/20 - 3s - loss: 0.6091 - acc: 0.6710\n",
            "20/20 - 4s - loss: 0.6048 - acc: 0.6675 - val_loss: 0.6213 - val_acc: 0.6710\n",
            "Epoch 16/100\n",
            "Epoch 1/100\n",
            "50/20 - 3s - loss: 0.6027 - acc: 0.6770\n",
            "20/20 - 4s - loss: 0.5440 - acc: 0.7300 - val_loss: 0.5990 - val_acc: 0.6770\n",
            "Epoch 17/100\n",
            "Epoch 1/100\n",
            "50/20 - 3s - loss: 0.6059 - acc: 0.6320\n",
            "20/20 - 4s - loss: 0.5520 - acc: 0.7350 - val_loss: 0.6367 - val_acc: 0.6320\n",
            "Epoch 18/100\n",
            "Epoch 1/100\n",
            "50/20 - 3s - loss: 0.5769 - acc: 0.6750\n",
            "20/20 - 4s - loss: 0.5745 - acc: 0.6975 - val_loss: 0.5964 - val_acc: 0.6750\n",
            "Epoch 19/100\n",
            "Epoch 1/100\n",
            "50/20 - 3s - loss: 0.6259 - acc: 0.6690\n",
            "20/20 - 4s - loss: 0.5499 - acc: 0.7100 - val_loss: 0.6025 - val_acc: 0.6690\n",
            "Epoch 20/100\n",
            "Epoch 1/100\n",
            "50/20 - 3s - loss: 0.6040 - acc: 0.6820\n",
            "20/20 - 4s - loss: 0.5925 - acc: 0.6825 - val_loss: 0.5901 - val_acc: 0.6820\n",
            "Epoch 21/100\n",
            "Epoch 1/100\n",
            "50/20 - 3s - loss: 0.5901 - acc: 0.6830\n",
            "20/20 - 4s - loss: 0.5356 - acc: 0.7100 - val_loss: 0.5867 - val_acc: 0.6830\n",
            "Epoch 22/100\n",
            "Epoch 1/100\n",
            "50/20 - 3s - loss: 0.5870 - acc: 0.6870\n",
            "20/20 - 4s - loss: 0.5199 - acc: 0.7575 - val_loss: 0.5999 - val_acc: 0.6870\n",
            "Epoch 23/100\n",
            "Epoch 1/100\n",
            "50/20 - 3s - loss: 0.6200 - acc: 0.6660\n",
            "20/20 - 4s - loss: 0.5672 - acc: 0.7025 - val_loss: 0.5941 - val_acc: 0.6660\n",
            "Epoch 24/100\n",
            "Epoch 1/100\n",
            "50/20 - 3s - loss: 0.5856 - acc: 0.6850\n",
            "20/20 - 4s - loss: 0.5442 - acc: 0.7500 - val_loss: 0.5924 - val_acc: 0.6850\n",
            "Epoch 25/100\n",
            "Epoch 1/100\n",
            "50/20 - 3s - loss: 0.5926 - acc: 0.6860\n",
            "20/20 - 4s - loss: 0.5355 - acc: 0.7200 - val_loss: 0.6043 - val_acc: 0.6860\n",
            "Epoch 26/100\n",
            "Epoch 1/100\n",
            "50/20 - 3s - loss: 0.5768 - acc: 0.7100\n",
            "20/20 - 4s - loss: 0.5135 - acc: 0.7350 - val_loss: 0.5762 - val_acc: 0.7100\n",
            "Epoch 27/100\n",
            "Epoch 1/100\n",
            "50/20 - 3s - loss: 0.7102 - acc: 0.6530\n",
            "20/20 - 4s - loss: 0.4776 - acc: 0.7800 - val_loss: 0.6572 - val_acc: 0.6530\n",
            "Epoch 28/100\n",
            "Epoch 1/100\n",
            "50/20 - 3s - loss: 0.5849 - acc: 0.6900\n",
            "20/20 - 4s - loss: 0.5226 - acc: 0.7275 - val_loss: 0.5800 - val_acc: 0.6900\n",
            "Epoch 29/100\n",
            "Epoch 1/100\n",
            "50/20 - 3s - loss: 0.6233 - acc: 0.6800\n",
            "20/20 - 4s - loss: 0.5262 - acc: 0.7175 - val_loss: 0.5827 - val_acc: 0.6800\n",
            "Epoch 30/100\n",
            "Epoch 1/100\n",
            "50/20 - 3s - loss: 0.6408 - acc: 0.6680\n",
            "20/20 - 4s - loss: 0.5207 - acc: 0.7475 - val_loss: 0.6060 - val_acc: 0.6680\n",
            "Epoch 31/100\n",
            "Epoch 1/100\n",
            "50/20 - 3s - loss: 0.6578 - acc: 0.6820\n",
            "20/20 - 3s - loss: 0.4731 - acc: 0.7900 - val_loss: 0.6017 - val_acc: 0.6820\n",
            "Epoch 32/100\n",
            "Epoch 1/100\n",
            "50/20 - 3s - loss: 0.6006 - acc: 0.6750\n",
            "20/20 - 4s - loss: 0.4697 - acc: 0.7800 - val_loss: 0.6214 - val_acc: 0.6750\n",
            "Epoch 33/100\n",
            "Epoch 1/100\n",
            "50/20 - 3s - loss: 0.6103 - acc: 0.6830\n",
            "20/20 - 4s - loss: 0.4750 - acc: 0.7750 - val_loss: 0.6078 - val_acc: 0.6830\n",
            "Epoch 34/100\n",
            "Epoch 1/100\n",
            "50/20 - 3s - loss: 0.5976 - acc: 0.6960\n",
            "20/20 - 4s - loss: 0.5041 - acc: 0.7500 - val_loss: 0.5958 - val_acc: 0.6960\n",
            "Epoch 35/100\n",
            "Epoch 1/100\n",
            "50/20 - 3s - loss: 0.5879 - acc: 0.7020\n",
            "20/20 - 4s - loss: 0.5073 - acc: 0.7325 - val_loss: 0.5637 - val_acc: 0.7020\n",
            "Epoch 36/100\n",
            "Epoch 1/100\n",
            "50/20 - 3s - loss: 0.5870 - acc: 0.6960\n",
            "20/20 - 4s - loss: 0.4229 - acc: 0.8075 - val_loss: 0.5962 - val_acc: 0.6960\n",
            "Epoch 37/100\n",
            "Epoch 1/100\n",
            "50/20 - 3s - loss: 0.6042 - acc: 0.6960\n",
            "20/20 - 4s - loss: 0.4936 - acc: 0.7525 - val_loss: 0.5676 - val_acc: 0.6960\n",
            "Epoch 38/100\n",
            "Epoch 1/100\n",
            "50/20 - 3s - loss: 0.6167 - acc: 0.6760\n",
            "20/20 - 4s - loss: 0.4481 - acc: 0.7950 - val_loss: 0.6370 - val_acc: 0.6760\n",
            "Epoch 39/100\n",
            "Epoch 1/100\n",
            "50/20 - 3s - loss: 0.6075 - acc: 0.6870\n",
            "20/20 - 4s - loss: 0.4899 - acc: 0.7550 - val_loss: 0.5873 - val_acc: 0.6870\n",
            "Epoch 40/100\n",
            "Epoch 1/100\n",
            "50/20 - 3s - loss: 0.5800 - acc: 0.7160\n",
            "20/20 - 3s - loss: 0.4806 - acc: 0.7550 - val_loss: 0.5549 - val_acc: 0.7160\n",
            "Epoch 41/100\n",
            "Epoch 1/100\n",
            "50/20 - 3s - loss: 0.6668 - acc: 0.6920\n",
            "20/20 - 4s - loss: 0.4436 - acc: 0.8025 - val_loss: 0.6130 - val_acc: 0.6920\n",
            "Epoch 42/100\n",
            "Epoch 1/100\n",
            "50/20 - 3s - loss: 0.6773 - acc: 0.6950\n",
            "20/20 - 4s - loss: 0.4371 - acc: 0.7950 - val_loss: 0.5954 - val_acc: 0.6950\n",
            "Epoch 43/100\n",
            "Epoch 1/100\n",
            "50/20 - 3s - loss: 0.6109 - acc: 0.6890\n",
            "20/20 - 4s - loss: 0.4279 - acc: 0.7775 - val_loss: 0.6171 - val_acc: 0.6890\n",
            "Epoch 44/100\n",
            "Epoch 1/100\n",
            "50/20 - 3s - loss: 0.6365 - acc: 0.7080\n",
            "20/20 - 4s - loss: 0.4218 - acc: 0.8025 - val_loss: 0.5733 - val_acc: 0.7080\n",
            "Epoch 45/100\n",
            "Epoch 1/100\n",
            "50/20 - 3s - loss: 0.6268 - acc: 0.6960\n",
            "20/20 - 4s - loss: 0.4395 - acc: 0.7950 - val_loss: 0.5815 - val_acc: 0.6960\n",
            "Epoch 46/100\n",
            "Epoch 1/100\n",
            "50/20 - 3s - loss: 0.6240 - acc: 0.7070\n",
            "20/20 - 4s - loss: 0.3975 - acc: 0.8225 - val_loss: 0.5886 - val_acc: 0.7070\n",
            "Epoch 47/100\n",
            "Epoch 1/100\n",
            "50/20 - 3s - loss: 0.5815 - acc: 0.7200\n",
            "20/20 - 4s - loss: 0.3921 - acc: 0.8250 - val_loss: 0.5677 - val_acc: 0.7200\n",
            "Epoch 48/100\n",
            "Epoch 1/100\n",
            "50/20 - 3s - loss: 0.5680 - acc: 0.7320\n",
            "20/20 - 4s - loss: 0.4282 - acc: 0.8000 - val_loss: 0.5503 - val_acc: 0.7320\n",
            "Epoch 49/100\n",
            "Epoch 1/100\n",
            "50/20 - 3s - loss: 0.5804 - acc: 0.7160\n",
            "20/20 - 4s - loss: 0.4362 - acc: 0.7850 - val_loss: 0.5607 - val_acc: 0.7160\n",
            "Epoch 50/100\n",
            "Epoch 1/100\n",
            "50/20 - 3s - loss: 0.5766 - acc: 0.7190\n",
            "20/20 - 4s - loss: 0.4079 - acc: 0.8200 - val_loss: 0.5483 - val_acc: 0.7190\n",
            "Epoch 51/100\n",
            "Epoch 1/100\n",
            "50/20 - 3s - loss: 0.6459 - acc: 0.7230\n",
            "20/20 - 4s - loss: 0.3707 - acc: 0.8375 - val_loss: 0.5718 - val_acc: 0.7230\n",
            "Epoch 52/100\n",
            "Epoch 1/100\n",
            "50/20 - 3s - loss: 0.5742 - acc: 0.7290\n",
            "20/20 - 3s - loss: 0.4054 - acc: 0.8225 - val_loss: 0.5578 - val_acc: 0.7290\n",
            "Epoch 53/100\n",
            "Epoch 1/100\n",
            "50/20 - 3s - loss: 0.5984 - acc: 0.7150\n",
            "20/20 - 4s - loss: 0.4076 - acc: 0.8225 - val_loss: 0.5602 - val_acc: 0.7150\n",
            "Epoch 54/100\n",
            "Epoch 1/100\n",
            "50/20 - 3s - loss: 0.5958 - acc: 0.7060\n",
            "20/20 - 4s - loss: 0.3822 - acc: 0.8400 - val_loss: 0.5743 - val_acc: 0.7060\n",
            "Epoch 55/100\n",
            "Epoch 1/100\n",
            "50/20 - 3s - loss: 0.5661 - acc: 0.7110\n",
            "20/20 - 4s - loss: 0.3514 - acc: 0.8425 - val_loss: 0.6028 - val_acc: 0.7110\n",
            "Epoch 56/100\n",
            "Epoch 1/100\n",
            "50/20 - 3s - loss: 0.5856 - acc: 0.7280\n",
            "20/20 - 4s - loss: 0.3478 - acc: 0.8350 - val_loss: 0.5590 - val_acc: 0.7280\n",
            "Epoch 57/100\n",
            "Epoch 1/100\n",
            "50/20 - 3s - loss: 0.5749 - acc: 0.7310\n",
            "20/20 - 4s - loss: 0.3758 - acc: 0.8425 - val_loss: 0.5510 - val_acc: 0.7310\n",
            "Epoch 58/100\n",
            "Epoch 1/100\n",
            "50/20 - 3s - loss: 0.5991 - acc: 0.7320\n",
            "20/20 - 4s - loss: 0.3756 - acc: 0.8550 - val_loss: 0.5518 - val_acc: 0.7320\n",
            "Epoch 59/100\n",
            "Epoch 1/100\n",
            "50/20 - 3s - loss: 0.5797 - acc: 0.7390\n",
            "20/20 - 4s - loss: 0.3589 - acc: 0.8375 - val_loss: 0.5551 - val_acc: 0.7390\n",
            "Epoch 60/100\n",
            "Epoch 1/100\n",
            "50/20 - 3s - loss: 0.5767 - acc: 0.7230\n",
            "20/20 - 4s - loss: 0.4074 - acc: 0.8050 - val_loss: 0.5538 - val_acc: 0.7230\n",
            "Epoch 61/100\n",
            "Epoch 1/100\n",
            "50/20 - 3s - loss: 0.6044 - acc: 0.7160\n",
            "20/20 - 4s - loss: 0.3360 - acc: 0.8675 - val_loss: 0.5603 - val_acc: 0.7160\n",
            "Epoch 62/100\n",
            "Epoch 1/100\n",
            "50/20 - 3s - loss: 0.6641 - acc: 0.7130\n",
            "20/20 - 4s - loss: 0.3313 - acc: 0.8600 - val_loss: 0.6038 - val_acc: 0.7130\n",
            "Epoch 63/100\n",
            "Epoch 1/100\n",
            "50/20 - 3s - loss: 0.5739 - acc: 0.7330\n",
            "20/20 - 4s - loss: 0.3645 - acc: 0.8225 - val_loss: 0.5513 - val_acc: 0.7330\n",
            "Epoch 64/100\n",
            "Epoch 1/100\n",
            "50/20 - 3s - loss: 0.5536 - acc: 0.7280\n",
            "20/20 - 4s - loss: 0.3014 - acc: 0.8875 - val_loss: 0.5738 - val_acc: 0.7280\n",
            "Epoch 65/100\n",
            "Epoch 1/100\n",
            "50/20 - 3s - loss: 0.5323 - acc: 0.7280\n",
            "20/20 - 3s - loss: 0.3624 - acc: 0.8475 - val_loss: 0.5466 - val_acc: 0.7280\n",
            "Epoch 66/100\n",
            "Epoch 1/100\n",
            "50/20 - 3s - loss: 0.5425 - acc: 0.7270\n",
            "20/20 - 4s - loss: 0.3194 - acc: 0.8675 - val_loss: 0.5512 - val_acc: 0.7270\n",
            "Epoch 67/100\n",
            "Epoch 1/100\n",
            "50/20 - 3s - loss: 0.5681 - acc: 0.7350\n",
            "20/20 - 4s - loss: 0.3120 - acc: 0.8800 - val_loss: 0.5500 - val_acc: 0.7350\n",
            "Epoch 68/100\n",
            "Epoch 1/100\n",
            "50/20 - 3s - loss: 0.5652 - acc: 0.7200\n",
            "20/20 - 4s - loss: 0.3354 - acc: 0.8550 - val_loss: 0.5557 - val_acc: 0.7200\n",
            "Epoch 69/100\n",
            "Epoch 1/100\n",
            "50/20 - 3s - loss: 0.5447 - acc: 0.7480\n",
            "20/20 - 4s - loss: 0.3058 - acc: 0.8700 - val_loss: 0.5529 - val_acc: 0.7480\n",
            "Epoch 70/100\n",
            "Epoch 1/100\n",
            "50/20 - 3s - loss: 0.6729 - acc: 0.7170\n",
            "20/20 - 4s - loss: 0.2876 - acc: 0.8925 - val_loss: 0.5973 - val_acc: 0.7170\n",
            "Epoch 71/100\n",
            "Epoch 1/100\n",
            "50/20 - 3s - loss: 0.6436 - acc: 0.7240\n",
            "20/20 - 4s - loss: 0.2883 - acc: 0.8725 - val_loss: 0.5887 - val_acc: 0.7240\n",
            "Epoch 72/100\n",
            "Epoch 1/100\n",
            "50/20 - 3s - loss: 0.5813 - acc: 0.7340\n",
            "20/20 - 4s - loss: 0.2755 - acc: 0.8900 - val_loss: 0.5774 - val_acc: 0.7340\n",
            "Epoch 73/100\n",
            "Epoch 1/100\n",
            "50/20 - 3s - loss: 0.6259 - acc: 0.7480\n",
            "20/20 - 4s - loss: 0.2897 - acc: 0.8700 - val_loss: 0.5608 - val_acc: 0.7480\n",
            "Epoch 74/100\n",
            "Epoch 1/100\n",
            "50/20 - 3s - loss: 0.6979 - acc: 0.7180\n",
            "20/20 - 4s - loss: 0.3237 - acc: 0.8775 - val_loss: 0.5876 - val_acc: 0.7180\n",
            "Epoch 75/100\n",
            "Epoch 1/100\n",
            "50/20 - 3s - loss: 0.7040 - acc: 0.7080\n",
            "20/20 - 3s - loss: 0.2858 - acc: 0.8725 - val_loss: 0.6116 - val_acc: 0.7080\n",
            "Epoch 76/100\n",
            "Epoch 1/100\n",
            "50/20 - 3s - loss: 0.6537 - acc: 0.7320\n",
            "20/20 - 4s - loss: 0.2662 - acc: 0.8825 - val_loss: 0.5701 - val_acc: 0.7320\n",
            "Epoch 77/100\n",
            "Epoch 1/100\n",
            "50/20 - 3s - loss: 0.6193 - acc: 0.7440\n",
            "20/20 - 4s - loss: 0.2624 - acc: 0.8875 - val_loss: 0.5683 - val_acc: 0.7440\n",
            "Epoch 78/100\n",
            "Epoch 1/100\n",
            "50/20 - 3s - loss: 0.5704 - acc: 0.7380\n",
            "20/20 - 4s - loss: 0.3034 - acc: 0.8650 - val_loss: 0.5537 - val_acc: 0.7380\n",
            "Epoch 79/100\n",
            "Epoch 1/100\n",
            "50/20 - 3s - loss: 0.5777 - acc: 0.7260\n",
            "20/20 - 4s - loss: 0.2700 - acc: 0.8900 - val_loss: 0.6044 - val_acc: 0.7260\n",
            "Epoch 80/100\n",
            "Epoch 1/100\n",
            "50/20 - 3s - loss: 0.5884 - acc: 0.7290\n",
            "20/20 - 4s - loss: 0.2647 - acc: 0.8925 - val_loss: 0.5766 - val_acc: 0.7290\n",
            "Epoch 81/100\n",
            "Epoch 1/100\n",
            "50/20 - 3s - loss: 0.7429 - acc: 0.7180\n",
            "20/20 - 4s - loss: 0.2262 - acc: 0.9275 - val_loss: 0.6447 - val_acc: 0.7180\n",
            "Epoch 82/100\n",
            "Epoch 1/100\n",
            "50/20 - 3s - loss: 0.6096 - acc: 0.7360\n",
            "20/20 - 4s - loss: 0.2429 - acc: 0.9125 - val_loss: 0.5882 - val_acc: 0.7360\n",
            "Epoch 83/100\n",
            "Epoch 1/100\n",
            "50/20 - 3s - loss: 0.6772 - acc: 0.7210\n",
            "20/20 - 4s - loss: 0.2590 - acc: 0.8975 - val_loss: 0.6000 - val_acc: 0.7210\n",
            "Epoch 84/100\n",
            "Epoch 1/100\n",
            "50/20 - 3s - loss: 0.6302 - acc: 0.7480\n",
            "20/20 - 4s - loss: 0.2759 - acc: 0.8750 - val_loss: 0.5556 - val_acc: 0.7480\n",
            "Epoch 85/100\n",
            "Epoch 1/100\n",
            "50/20 - 3s - loss: 0.6003 - acc: 0.7450\n",
            "20/20 - 4s - loss: 0.2552 - acc: 0.9100 - val_loss: 0.5577 - val_acc: 0.7450\n",
            "Epoch 86/100\n",
            "Epoch 1/100\n",
            "50/20 - 3s - loss: 0.6679 - acc: 0.7330\n",
            "20/20 - 4s - loss: 0.2318 - acc: 0.9125 - val_loss: 0.6049 - val_acc: 0.7330\n",
            "Epoch 87/100\n",
            "Epoch 1/100\n",
            "50/20 - 3s - loss: 0.6025 - acc: 0.7420\n",
            "20/20 - 4s - loss: 0.2361 - acc: 0.9250 - val_loss: 0.5768 - val_acc: 0.7420\n",
            "Epoch 88/100\n",
            "Epoch 1/100\n",
            "50/20 - 3s - loss: 0.6814 - acc: 0.7350\n",
            "20/20 - 4s - loss: 0.1965 - acc: 0.9375 - val_loss: 0.6109 - val_acc: 0.7350\n",
            "Epoch 89/100\n",
            "Epoch 1/100\n",
            "50/20 - 3s - loss: 0.5912 - acc: 0.7420\n",
            "20/20 - 4s - loss: 0.2369 - acc: 0.8975 - val_loss: 0.5670 - val_acc: 0.7420\n",
            "Epoch 90/100\n",
            "Epoch 1/100\n",
            "50/20 - 3s - loss: 0.6105 - acc: 0.7230\n",
            "20/20 - 4s - loss: 0.2431 - acc: 0.9050 - val_loss: 0.6404 - val_acc: 0.7230\n",
            "Epoch 91/100\n",
            "Epoch 1/100\n",
            "50/20 - 3s - loss: 0.6545 - acc: 0.7460\n",
            "20/20 - 4s - loss: 0.1801 - acc: 0.9350 - val_loss: 0.5935 - val_acc: 0.7460\n",
            "Epoch 92/100\n",
            "Epoch 1/100\n",
            "50/20 - 3s - loss: 0.6998 - acc: 0.7490\n",
            "20/20 - 4s - loss: 0.2246 - acc: 0.9150 - val_loss: 0.6012 - val_acc: 0.7490\n",
            "Epoch 93/100\n",
            "Epoch 1/100\n",
            "50/20 - 3s - loss: 0.6977 - acc: 0.7440\n",
            "20/20 - 4s - loss: 0.2164 - acc: 0.9175 - val_loss: 0.6055 - val_acc: 0.7440\n",
            "Epoch 94/100\n",
            "Epoch 1/100\n",
            "50/20 - 3s - loss: 0.6812 - acc: 0.7380\n",
            "20/20 - 4s - loss: 0.1971 - acc: 0.9200 - val_loss: 0.6612 - val_acc: 0.7380\n",
            "Epoch 95/100\n",
            "Epoch 1/100\n",
            "50/20 - 3s - loss: 0.5918 - acc: 0.7450\n",
            "20/20 - 4s - loss: 0.2174 - acc: 0.9025 - val_loss: 0.5758 - val_acc: 0.7450\n",
            "Epoch 96/100\n",
            "Epoch 1/100\n",
            "50/20 - 3s - loss: 0.6029 - acc: 0.7390\n",
            "20/20 - 4s - loss: 0.1865 - acc: 0.9475 - val_loss: 0.6252 - val_acc: 0.7390\n",
            "Epoch 97/100\n",
            "Epoch 1/100\n",
            "50/20 - 3s - loss: 0.6745 - acc: 0.7450\n",
            "20/20 - 4s - loss: 0.1936 - acc: 0.9375 - val_loss: 0.6008 - val_acc: 0.7450\n",
            "Epoch 98/100\n",
            "Epoch 1/100\n",
            "50/20 - 3s - loss: 0.6543 - acc: 0.7430\n",
            "20/20 - 4s - loss: 0.1850 - acc: 0.9400 - val_loss: 0.6634 - val_acc: 0.7430\n",
            "Epoch 99/100\n",
            "Epoch 1/100\n",
            "50/20 - 3s - loss: 0.6273 - acc: 0.7460\n",
            "20/20 - 3s - loss: 0.1813 - acc: 0.9375 - val_loss: 0.6052 - val_acc: 0.7460\n",
            "Epoch 100/100\n",
            "Epoch 1/100\n",
            "50/20 - 3s - loss: 0.7538 - acc: 0.7490\n",
            "20/20 - 4s - loss: 0.1925 - acc: 0.9250 - val_loss: 0.6349 - val_acc: 0.7490\n"
          ],
          "name": "stdout"
        }
      ]
    },
    {
      "cell_type": "code",
      "metadata": {
        "id": "wqL5CTiw1lm6",
        "colab_type": "code",
        "colab": {
          "base_uri": "https://localhost:8080/",
          "height": 544
        },
        "outputId": "89c2e7de-c9c7-4d58-fba2-b7c4a9672574"
      },
      "source": [
        "import matplotlib.pyplot as plt\n",
        "acc = history.history['acc']\n",
        "val_acc = history.history['val_acc']\n",
        "loss = history.history['loss']\n",
        "val_loss = history.history['val_loss']\n",
        "\n",
        "epochs = range(len(acc))\n",
        "\n",
        "plt.plot(epochs, acc, 'bo', label='Training accuracy')\n",
        "plt.plot(epochs, val_acc, 'b', label='Validation accuracy')\n",
        "plt.title('Training and validation accuracy')\n",
        "\n",
        "plt.figure()\n",
        "\n",
        "plt.plot(epochs, loss, 'bo', label='Training Loss')\n",
        "plt.plot(epochs, val_loss, 'b', label='Validation Loss')\n",
        "plt.title('Training and validation loss')\n",
        "plt.legend()\n",
        "\n",
        "plt.show()"
      ],
      "execution_count": 2,
      "outputs": [
        {
          "output_type": "display_data",
          "data": {
            "image/png": "[encoded data removed]",
            "text/plain": [
              "<Figure size 432x288 with 1 Axes>"
            ]
          },
          "metadata": {
            "tags": []
          }
        },
        {
          "output_type": "display_data",
          "data": {
            "image/png": "[encoded data removed]",
            "text/plain": [
              "<Figure size 432x288 with 1 Axes>"
            ]
          },
          "metadata": {
            "tags": []
          }
        }
      ]
    },
    {
      "cell_type": "code",
      "metadata": {
        "id": "4eJfeV7C2b9Z",
        "colab_type": "code",
        "colab": {}
      },
      "source": [
        ""
      ],
      "execution_count": 0,
      "outputs": []
    }
  ]
}