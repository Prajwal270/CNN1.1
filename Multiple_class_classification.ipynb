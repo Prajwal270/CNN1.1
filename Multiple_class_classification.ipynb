{
  "nbformat": 4,
  "nbformat_minor": 0,
  "metadata": {
    "colab": {
      "name": "Multiple_class_classification.ipynb",
      "provenance": [],
      "authorship_tag": "ABX9TyOBvFSqzoKqI1TMS6OmjmvY",
      "include_colab_link": true
    },
    "kernelspec": {
      "name": "python3",
      "display_name": "Python 3"
    },
    "accelerator": "GPU"
  },
  "cells": [
    {
      "cell_type": "markdown",
      "metadata": {
        "id": "view-in-github",
        "colab_type": "text"
      },
      "source": [
        "<a href=\"https://colab.research.google.com/github/Prajwal270/CNN1.1/blob/master/Multiple_class_classification.ipynb\" target=\"_parent\"><img src=\"https://colab.research.google.com/assets/colab-badge.svg\" alt=\"Open In Colab\"/></a>"
      ]
    },
    {
      "cell_type": "code",
      "metadata": {
        "id": "9m2M57LxGiSV",
        "colab_type": "code",
        "outputId": "617b0c3a-7d34-4431-c519-f44759b07f29",
        "colab": {
          "base_uri": "https://localhost:8080/",
          "height": 34
        }
      },
      "source": [
        "print('MultiClass Classification with Tensorflow')"
      ],
      "execution_count": 0,
      "outputs": [
        {
          "output_type": "stream",
          "text": [
            "MultiClass Classification with Tensorflow\n"
          ],
          "name": "stdout"
        }
      ]
    },
    {
      "cell_type": "markdown",
      "metadata": {
        "id": "Sjdf4nSvG5Wf",
        "colab_type": "text"
      },
      "source": [
        "Getting the Data"
      ]
    },
    {
      "cell_type": "code",
      "metadata": {
        "id": "nMixSC60G3JV",
        "colab_type": "code",
        "outputId": "250dffc7-40fa-488b-f87b-e0ca5e31c420",
        "colab": {
          "base_uri": "https://localhost:8080/",
          "height": 407
        }
      },
      "source": [
        "!wget --no-check-certificate \\\n",
        "    https://storage.googleapis.com/laurencemoroney-blog.appspot.com/rps.zip \\\n",
        "    -O /tmp/rps.zip\n",
        "  \n",
        "!wget --no-check-certificate \\\n",
        "    https://storage.googleapis.com/laurencemoroney-blog.appspot.com/rps-test-set.zip \\\n",
        "    -O /tmp/rps-test-set.zip"
      ],
      "execution_count": 0,
      "outputs": [
        {
          "output_type": "stream",
          "text": [
            "--2020-02-17 21:44:48--  https://storage.googleapis.com/laurencemoroney-blog.appspot.com/rps.zip\n",
            "Resolving storage.googleapis.com (storage.googleapis.com)... 172.217.11.80, 2607:f8b0:4007:803::2010\n",
            "Connecting to storage.googleapis.com (storage.googleapis.com)|172.217.11.80|:443... connected.\n",
            "HTTP request sent, awaiting response... 200 OK\n",
            "Length: 200682221 (191M) [application/zip]\n",
            "Saving to: ‘/tmp/rps.zip’\n",
            "\n",
            "/tmp/rps.zip        100%[===================>] 191.38M   135MB/s    in 1.4s    \n",
            "\n",
            "2020-02-17 21:44:50 (135 MB/s) - ‘/tmp/rps.zip’ saved [200682221/200682221]\n",
            "\n",
            "--2020-02-17 21:44:52--  https://storage.googleapis.com/laurencemoroney-blog.appspot.com/rps-test-set.zip\n",
            "Resolving storage.googleapis.com (storage.googleapis.com)... 172.217.14.112, 2607:f8b0:4007:802::2010\n",
            "Connecting to storage.googleapis.com (storage.googleapis.com)|172.217.14.112|:443... connected.\n",
            "HTTP request sent, awaiting response... 200 OK\n",
            "Length: 29516758 (28M) [application/zip]\n",
            "Saving to: ‘/tmp/rps-test-set.zip’\n",
            "\n",
            "/tmp/rps-test-set.z 100%[===================>]  28.15M   119MB/s    in 0.2s    \n",
            "\n",
            "2020-02-17 21:44:53 (119 MB/s) - ‘/tmp/rps-test-set.zip’ saved [29516758/29516758]\n",
            "\n"
          ],
          "name": "stdout"
        }
      ]
    },
    {
      "cell_type": "code",
      "metadata": {
        "id": "91mafZKzHGb1",
        "colab_type": "code",
        "colab": {}
      },
      "source": [
        "import os\n",
        "import zipfile"
      ],
      "execution_count": 0,
      "outputs": []
    },
    {
      "cell_type": "code",
      "metadata": {
        "id": "XB5XzPDtHKR-",
        "colab_type": "code",
        "colab": {}
      },
      "source": [
        "local_dir = '/tmp/rps-test-set.zip'\n",
        "zip_ref = zipfile.ZipFile(local_dir,'r')\n",
        "zip_ref.extractall('/tmp')\n",
        "zip_ref.close()"
      ],
      "execution_count": 0,
      "outputs": []
    },
    {
      "cell_type": "code",
      "metadata": {
        "id": "Ob8NXEwFHo9a",
        "colab_type": "code",
        "colab": {}
      },
      "source": [
        "local_dir = '/tmp/rps.zip'\n",
        "zip_ref = zipfile.ZipFile(local_dir, 'r')\n",
        "zip_ref.extractall('/tmp')\n",
        "zip_ref.close()"
      ],
      "execution_count": 0,
      "outputs": []
    },
    {
      "cell_type": "code",
      "metadata": {
        "id": "neGJeEcvH6YK",
        "colab_type": "code",
        "colab": {}
      },
      "source": [
        "from tensorflow.keras.preprocessing.image import ImageDataGenerator"
      ],
      "execution_count": 0,
      "outputs": []
    },
    {
      "cell_type": "code",
      "metadata": {
        "id": "RAkRScp8IIIt",
        "colab_type": "code",
        "colab": {}
      },
      "source": [
        "training_dir = '/tmp/rps'\n",
        "train_dir = ImageDataGenerator(\n",
        "      rescale = 1./225,\n",
        "      rotation_range=40,\n",
        "      width_shift_range=0.2,\n",
        "      height_shift_range=0.2,\n",
        "      shear_range=0.2,\n",
        "      zoom_range=0.2,\n",
        "      horizontal_flip=True,\n",
        "      fill_mode='nearest'\n",
        ")"
      ],
      "execution_count": 0,
      "outputs": []
    },
    {
      "cell_type": "code",
      "metadata": {
        "id": "m2mYxPUPIjSQ",
        "colab_type": "code",
        "colab": {}
      },
      "source": [
        "validation_dir = '/tmp/rps-test-set'\n",
        "# There is no agumentation for the validation dir\n",
        "vali_dir = ImageDataGenerator(rescale=1./255)"
      ],
      "execution_count": 0,
      "outputs": []
    },
    {
      "cell_type": "code",
      "metadata": {
        "id": "Uy06fNykI0UR",
        "colab_type": "code",
        "outputId": "8098e7fe-d379-42f8-c50e-eaa2f2b816c8",
        "colab": {
          "base_uri": "https://localhost:8080/",
          "height": 34
        }
      },
      "source": [
        "train= train_dir.flow_from_directory(\n",
        "    training_dir,\n",
        "    target_size = (150,150),\n",
        "    class_mode = 'categorical'\n",
        "\n",
        ")"
      ],
      "execution_count": 0,
      "outputs": [
        {
          "output_type": "stream",
          "text": [
            "Found 2520 images belonging to 3 classes.\n"
          ],
          "name": "stdout"
        }
      ]
    },
    {
      "cell_type": "code",
      "metadata": {
        "id": "mJT67ibfJbiG",
        "colab_type": "code",
        "outputId": "5a0a0eaa-f409-4f8f-f48a-d7466d19bb89",
        "colab": {
          "base_uri": "https://localhost:8080/",
          "height": 34
        }
      },
      "source": [
        "valid = vali_dir.flow_from_directory(\n",
        "    validation_dir,\n",
        "    target_size = (150,150),\n",
        "    class_mode = 'categorical'\n",
        "\n",
        ")"
      ],
      "execution_count": 0,
      "outputs": [
        {
          "output_type": "stream",
          "text": [
            "Found 372 images belonging to 3 classes.\n"
          ],
          "name": "stdout"
        }
      ]
    },
    {
      "cell_type": "code",
      "metadata": {
        "id": "QZbG9AefLJA_",
        "colab_type": "code",
        "colab": {}
      },
      "source": [
        "import tensorflow as tf"
      ],
      "execution_count": 0,
      "outputs": []
    },
    {
      "cell_type": "code",
      "metadata": {
        "id": "31z4qhd0J2_A",
        "colab_type": "code",
        "colab": {}
      },
      "source": [
        "model = tf.keras.Sequential([\n",
        "    # The first convolution\n",
        "    tf.keras.layers.Conv2D(64, (3,3), activation='relu', input_shape = (150, 150,3)),\n",
        "    tf.keras.layers.MaxPooling2D(2, 2),\n",
        "    # The second convolution\n",
        "    tf.keras.layers.Conv2D(64, (3,3), activation='relu'),\n",
        "    tf.keras.layers.MaxPooling2D(2,2),\n",
        "    # The third convolution\n",
        "    tf.keras.layers.Conv2D(128, (3,3), activation='relu'),\n",
        "    tf.keras.layers.MaxPooling2D(2,2),\n",
        "    # The fourth convolution\n",
        "    tf.keras.layers.Conv2D(128, (3,3), activation='relu'),\n",
        "    tf.keras.layers.MaxPooling2D(2,2),\n",
        "\n",
        "    tf.keras.layers.Flatten(),\n",
        "\n",
        "    tf.keras.layers.Dropout(0.5),\n",
        "\n",
        "    tf.keras.layers.Dense(1204, activation = 'relu'),\n",
        "    tf.keras.layers.Dense(3, activation='softmax')\n",
        "])"
      ],
      "execution_count": 0,
      "outputs": []
    },
    {
      "cell_type": "code",
      "metadata": {
        "id": "zBuWk_dyLC3p",
        "colab_type": "code",
        "outputId": "69861e92-3242-4ef0-d542-f749e6cf13c5",
        "colab": {
          "base_uri": "https://localhost:8080/",
          "height": 585
        }
      },
      "source": [
        "model.summary()"
      ],
      "execution_count": 0,
      "outputs": [
        {
          "output_type": "stream",
          "text": [
            "Model: \"sequential_3\"\n",
            "_________________________________________________________________\n",
            "Layer (type)                 Output Shape              Param #   \n",
            "=================================================================\n",
            "conv2d_12 (Conv2D)           (None, 148, 148, 64)      1792      \n",
            "_________________________________________________________________\n",
            "max_pooling2d_12 (MaxPooling (None, 74, 74, 64)        0         \n",
            "_________________________________________________________________\n",
            "conv2d_13 (Conv2D)           (None, 72, 72, 64)        36928     \n",
            "_________________________________________________________________\n",
            "max_pooling2d_13 (MaxPooling (None, 36, 36, 64)        0         \n",
            "_________________________________________________________________\n",
            "conv2d_14 (Conv2D)           (None, 34, 34, 128)       73856     \n",
            "_________________________________________________________________\n",
            "max_pooling2d_14 (MaxPooling (None, 17, 17, 128)       0         \n",
            "_________________________________________________________________\n",
            "conv2d_15 (Conv2D)           (None, 15, 15, 128)       147584    \n",
            "_________________________________________________________________\n",
            "max_pooling2d_15 (MaxPooling (None, 7, 7, 128)         0         \n",
            "_________________________________________________________________\n",
            "flatten_3 (Flatten)          (None, 6272)              0         \n",
            "_________________________________________________________________\n",
            "dropout_2 (Dropout)          (None, 6272)              0         \n",
            "_________________________________________________________________\n",
            "dense_6 (Dense)              (None, 1204)              7552692   \n",
            "_________________________________________________________________\n",
            "dense_7 (Dense)              (None, 3)                 3615      \n",
            "=================================================================\n",
            "Total params: 7,816,467\n",
            "Trainable params: 7,816,467\n",
            "Non-trainable params: 0\n",
            "_________________________________________________________________\n"
          ],
          "name": "stdout"
        }
      ]
    },
    {
      "cell_type": "code",
      "metadata": {
        "id": "Zy9EVjVTMFoZ",
        "colab_type": "code",
        "colab": {}
      },
      "source": [
        "model.compile(loss = 'categorical_crossentropy', optimizer='rmsprop', metrics=['acc'])"
      ],
      "execution_count": 0,
      "outputs": []
    },
    {
      "cell_type": "code",
      "metadata": {
        "id": "KfgAdOgYLPYv",
        "colab_type": "code",
        "outputId": "41cb4819-3fe3-49d5-fe23-84b91223c1b5",
        "colab": {
          "base_uri": "https://localhost:8080/",
          "height": 1000
        }
      },
      "source": [
        "history = model.fit_generator(\n",
        "    train,\n",
        "    validation_data  = valid,\n",
        "    epochs = 20,\n",
        "    verbose = 2\n",
        "    \n",
        ")"
      ],
      "execution_count": 0,
      "outputs": [
        {
          "output_type": "stream",
          "text": [
            "Epoch 1/20\n",
            "Epoch 1/20\n",
            "79/79 - 27s - loss: 1.2653 - acc: 0.4187 - val_loss: 0.8070 - val_acc: 0.9382\n",
            "Epoch 2/20\n",
            "Epoch 1/20\n",
            "79/79 - 21s - loss: 0.8577 - acc: 0.6000 - val_loss: 0.2762 - val_acc: 0.9220\n",
            "Epoch 3/20\n",
            "Epoch 1/20\n",
            "79/79 - 21s - loss: 0.5568 - acc: 0.7595 - val_loss: 0.1841 - val_acc: 0.9409\n",
            "Epoch 4/20\n",
            "Epoch 1/20\n",
            "79/79 - 21s - loss: 0.3854 - acc: 0.8437 - val_loss: 0.3308 - val_acc: 0.7930\n",
            "Epoch 5/20\n",
            "Epoch 1/20\n",
            "79/79 - 21s - loss: 0.3349 - acc: 0.8726 - val_loss: 0.0573 - val_acc: 0.9731\n",
            "Epoch 6/20\n",
            "Epoch 1/20\n",
            "79/79 - 21s - loss: 0.2314 - acc: 0.9151 - val_loss: 0.1719 - val_acc: 0.9059\n",
            "Epoch 7/20\n",
            "Epoch 1/20\n",
            "79/79 - 21s - loss: 0.1826 - acc: 0.9365 - val_loss: 0.0758 - val_acc: 0.9758\n",
            "Epoch 8/20\n",
            "Epoch 1/20\n",
            "79/79 - 21s - loss: 0.1811 - acc: 0.9373 - val_loss: 0.1974 - val_acc: 0.9086\n",
            "Epoch 9/20\n",
            "Epoch 1/20\n",
            "79/79 - 21s - loss: 0.1561 - acc: 0.9437 - val_loss: 0.4885 - val_acc: 0.7634\n",
            "Epoch 10/20\n",
            "Epoch 1/20\n",
            "79/79 - 21s - loss: 0.1432 - acc: 0.9512 - val_loss: 0.1802 - val_acc: 0.9328\n",
            "Epoch 11/20\n",
            "Epoch 1/20\n",
            "79/79 - 21s - loss: 0.1475 - acc: 0.9524 - val_loss: 0.0296 - val_acc: 0.9839\n",
            "Epoch 12/20\n",
            "Epoch 1/20\n",
            "79/79 - 21s - loss: 0.1254 - acc: 0.9587 - val_loss: 0.0671 - val_acc: 0.9704\n",
            "Epoch 13/20\n",
            "Epoch 1/20\n",
            "79/79 - 21s - loss: 0.1213 - acc: 0.9595 - val_loss: 0.0291 - val_acc: 0.9839\n",
            "Epoch 14/20\n",
            "Epoch 1/20\n",
            "79/79 - 21s - loss: 0.0977 - acc: 0.9698 - val_loss: 0.1546 - val_acc: 0.9462\n",
            "Epoch 15/20\n",
            "Epoch 1/20\n",
            "79/79 - 21s - loss: 0.1083 - acc: 0.9671 - val_loss: 0.1141 - val_acc: 0.9597\n",
            "Epoch 16/20\n",
            "Epoch 1/20\n",
            "79/79 - 21s - loss: 0.1192 - acc: 0.9667 - val_loss: 0.1210 - val_acc: 0.9731\n",
            "Epoch 17/20\n",
            "Epoch 1/20\n",
            "79/79 - 21s - loss: 0.1106 - acc: 0.9698 - val_loss: 0.2713 - val_acc: 0.8710\n",
            "Epoch 18/20\n",
            "Epoch 1/20\n",
            "79/79 - 21s - loss: 0.0989 - acc: 0.9683 - val_loss: 0.0355 - val_acc: 0.9866\n",
            "Epoch 19/20\n",
            "Epoch 1/20\n",
            "79/79 - 21s - loss: 0.0820 - acc: 0.9746 - val_loss: 0.0272 - val_acc: 0.9866\n",
            "Epoch 20/20\n",
            "Epoch 1/20\n",
            "79/79 - 20s - loss: 0.0884 - acc: 0.9706 - val_loss: 0.0486 - val_acc: 0.9758\n"
          ],
          "name": "stdout"
        }
      ]
    },
    {
      "cell_type": "code",
      "metadata": {
        "id": "FiCtCMWkMjRd",
        "colab_type": "code",
        "colab": {}
      },
      "source": [
        "model.save('model.h5')"
      ],
      "execution_count": 0,
      "outputs": []
    },
    {
      "cell_type": "code",
      "metadata": {
        "id": "DQWZCpnVDnZp",
        "colab_type": "code",
        "colab": {}
      },
      "source": [
        "from keras.models import load_model\n",
        "pretrained_model = load_model('model.h5')"
      ],
      "execution_count": 0,
      "outputs": []
    }
  ]
}